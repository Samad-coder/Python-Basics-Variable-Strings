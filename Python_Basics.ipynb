{
  "nbformat": 4,
  "nbformat_minor": 0,
  "metadata": {
    "colab": {
      "provenance": []
    },
    "kernelspec": {
      "name": "python3",
      "display_name": "Python 3"
    },
    "language_info": {
      "name": "python"
    }
  },
  "cells": [
    {
      "cell_type": "code",
      "execution_count": 7,
      "metadata": {
        "colab": {
          "base_uri": "https://localhost:8080/",
          "height": 426
        },
        "id": "SwTsreXe10C4",
        "outputId": "10eb531c-7cf6-40fe-adea-40118bd2f66c"
      },
      "outputs": [
        {
          "output_type": "stream",
          "name": "stdout",
          "text": [
            "Updated value of x:  15\n",
            "Updated value of y:  10\n"
          ]
        },
        {
          "output_type": "error",
          "ename": "KeyboardInterrupt",
          "evalue": "ignored",
          "traceback": [
            "\u001b[0;31m---------------------------------------------------------------------------\u001b[0m",
            "\u001b[0;31mKeyboardInterrupt\u001b[0m                         Traceback (most recent call last)",
            "\u001b[0;32m<ipython-input-7-1995158a7faf>\u001b[0m in \u001b[0;36m<cell line: 26>\u001b[0;34m()\u001b[0m\n\u001b[1;32m     24\u001b[0m 3.  print the area of a rectangle to see the output.\"\"\"\n\u001b[1;32m     25\u001b[0m \u001b[0;34m\u001b[0m\u001b[0m\n\u001b[0;32m---> 26\u001b[0;31m \u001b[0ml\u001b[0m \u001b[0;34m=\u001b[0m \u001b[0mint\u001b[0m\u001b[0;34m(\u001b[0m\u001b[0minput\u001b[0m\u001b[0;34m(\u001b[0m\u001b[0;34m\"Please enter length: \"\u001b[0m\u001b[0;34m)\u001b[0m\u001b[0;34m)\u001b[0m\u001b[0;34m\u001b[0m\u001b[0;34m\u001b[0m\u001b[0m\n\u001b[0m\u001b[1;32m     27\u001b[0m \u001b[0mb\u001b[0m \u001b[0;34m=\u001b[0m \u001b[0mint\u001b[0m\u001b[0;34m(\u001b[0m\u001b[0minput\u001b[0m\u001b[0;34m(\u001b[0m\u001b[0;34m\"Please enter breadth: \"\u001b[0m\u001b[0;34m)\u001b[0m\u001b[0;34m)\u001b[0m\u001b[0;34m\u001b[0m\u001b[0;34m\u001b[0m\u001b[0m\n\u001b[1;32m     28\u001b[0m \u001b[0marea\u001b[0m \u001b[0;34m=\u001b[0m \u001b[0ml\u001b[0m\u001b[0;34m*\u001b[0m\u001b[0mb\u001b[0m\u001b[0;34m\u001b[0m\u001b[0;34m\u001b[0m\u001b[0m\n",
            "\u001b[0;32m/usr/local/lib/python3.10/dist-packages/ipykernel/kernelbase.py\u001b[0m in \u001b[0;36mraw_input\u001b[0;34m(self, prompt)\u001b[0m\n\u001b[1;32m    849\u001b[0m                 \u001b[0;34m\"raw_input was called, but this frontend does not support input requests.\"\u001b[0m\u001b[0;34m\u001b[0m\u001b[0;34m\u001b[0m\u001b[0m\n\u001b[1;32m    850\u001b[0m             )\n\u001b[0;32m--> 851\u001b[0;31m         return self._input_request(str(prompt),\n\u001b[0m\u001b[1;32m    852\u001b[0m             \u001b[0mself\u001b[0m\u001b[0;34m.\u001b[0m\u001b[0m_parent_ident\u001b[0m\u001b[0;34m,\u001b[0m\u001b[0;34m\u001b[0m\u001b[0;34m\u001b[0m\u001b[0m\n\u001b[1;32m    853\u001b[0m             \u001b[0mself\u001b[0m\u001b[0;34m.\u001b[0m\u001b[0m_parent_header\u001b[0m\u001b[0;34m,\u001b[0m\u001b[0;34m\u001b[0m\u001b[0;34m\u001b[0m\u001b[0m\n",
            "\u001b[0;32m/usr/local/lib/python3.10/dist-packages/ipykernel/kernelbase.py\u001b[0m in \u001b[0;36m_input_request\u001b[0;34m(self, prompt, ident, parent, password)\u001b[0m\n\u001b[1;32m    893\u001b[0m             \u001b[0;32mexcept\u001b[0m \u001b[0mKeyboardInterrupt\u001b[0m\u001b[0;34m:\u001b[0m\u001b[0;34m\u001b[0m\u001b[0;34m\u001b[0m\u001b[0m\n\u001b[1;32m    894\u001b[0m                 \u001b[0;31m# re-raise KeyboardInterrupt, to truncate traceback\u001b[0m\u001b[0;34m\u001b[0m\u001b[0;34m\u001b[0m\u001b[0m\n\u001b[0;32m--> 895\u001b[0;31m                 \u001b[0;32mraise\u001b[0m \u001b[0mKeyboardInterrupt\u001b[0m\u001b[0;34m(\u001b[0m\u001b[0;34m\"Interrupted by user\"\u001b[0m\u001b[0;34m)\u001b[0m \u001b[0;32mfrom\u001b[0m \u001b[0;32mNone\u001b[0m\u001b[0;34m\u001b[0m\u001b[0;34m\u001b[0m\u001b[0m\n\u001b[0m\u001b[1;32m    896\u001b[0m             \u001b[0;32mexcept\u001b[0m \u001b[0mException\u001b[0m \u001b[0;32mas\u001b[0m \u001b[0me\u001b[0m\u001b[0;34m:\u001b[0m\u001b[0;34m\u001b[0m\u001b[0;34m\u001b[0m\u001b[0m\n\u001b[1;32m    897\u001b[0m                 \u001b[0mself\u001b[0m\u001b[0;34m.\u001b[0m\u001b[0mlog\u001b[0m\u001b[0;34m.\u001b[0m\u001b[0mwarning\u001b[0m\u001b[0;34m(\u001b[0m\u001b[0;34m\"Invalid Message:\"\u001b[0m\u001b[0;34m,\u001b[0m \u001b[0mexc_info\u001b[0m\u001b[0;34m=\u001b[0m\u001b[0;32mTrue\u001b[0m\u001b[0;34m)\u001b[0m\u001b[0;34m\u001b[0m\u001b[0;34m\u001b[0m\u001b[0m\n",
            "\u001b[0;31mKeyboardInterrupt\u001b[0m: Interrupted by user"
          ]
        }
      ],
      "source": [
        "#TOPIC: Python Basics Variable\n",
        "\n",
        "# 1. Declare two variables, `x` and `y`, and assign them integer values. Swap the values of these variables without using any temporary variable.\n",
        "\"\"\"This problem can be solved by the algorithm below:\n",
        "Step 1: Take two variables x and y.\n",
        "Step 2: Store the sum of these variables in x.\n",
        "Step 3: Subtract y from x and store it in y.\n",
        "Step 4: Replace x with x - y.\"\"\"\n",
        "\n",
        "x = 10\n",
        "y = 15\n",
        "x = x + y\n",
        "y = x - y\n",
        "x = x - y\n",
        "print(\"Updated value of x: \", x)\n",
        "print(\"Updated value of y: \", y)\n"
      ]
    },
    {
      "cell_type": "code",
      "source": [
        "# 2. Create a program that calculates the area of a rectangle. Take the length and width as inputs from the user and store them in variables. Calculate and display the area.\n",
        "\"\"\"This problem can be solved by the algorithm below\n",
        "1. we will take input from the user for length and breadth using the input() function.\n",
        "2. we will calculate the area of a rectangle by using the formula Area = l * b.\n",
        "3.  print the area of a rectangle to see the output.\"\"\"\n",
        "\n",
        "l = int(input(\"Please enter length: \"))\n",
        "b = int(input(\"Please enter breadth: \"))\n",
        "area = l*b\n",
        "print(\"Area of a Rectangle is: \" , area)\n"
      ],
      "metadata": {
        "id": "Br3HXaZUPEjr"
      },
      "execution_count": null,
      "outputs": []
    },
    {
      "cell_type": "code",
      "source": [
        "\n",
        "#Write a Python program that converts temperatures from Celsius to Fahrenheit. Take the temperature in Celsius as input, store it in a variable, convert it to Fahrenheit, and display the result.\n",
        "\"\"\"Algorithm for Python Program to Convert Celsius to Fahrenheit\n",
        "1. Take temperature in Celsius units using input().\n",
        "2. Apply in the formula Fahrenheit = (1.8 * celsius) + 32.\n",
        "3. Print the temperature in Fahrenheit.\"\"\"\n",
        "\n",
        "celsius = float(input(\"Enter the Temperature in Celsius: \"))\n",
        "fahrenheit = (1.8 * celsius) + 32\n",
        "print(\"Temperature in Fahrenheit :\", fahrenheit)"
      ],
      "metadata": {
        "colab": {
          "base_uri": "https://localhost:8080/"
        },
        "id": "UTLA5cXRQRr3",
        "outputId": "6d549344-f101-49ac-b743-4711b4cf1b92"
      },
      "execution_count": 9,
      "outputs": [
        {
          "output_type": "stream",
          "name": "stdout",
          "text": [
            "Enter the Temperature in Celsius: 24\n",
            "Temperature in Fahrenheit : 75.2\n"
          ]
        }
      ]
    },
    {
      "cell_type": "code",
      "source": [
        "#Write a Python program that takes a string as input and prints the length of the string.\n",
        "##Python code to demonstrate string length using len()\n",
        "\n",
        "string = input(\"Enter string: \")\n",
        "print(\"Length of String is: \",len(string))"
      ],
      "metadata": {
        "colab": {
          "base_uri": "https://localhost:8080/"
        },
        "id": "Oek_VUfJQpl6",
        "outputId": "aa6b194e-5d96-40c7-b396-8e055018373c"
      },
      "execution_count": 12,
      "outputs": [
        {
          "output_type": "stream",
          "name": "stdout",
          "text": [
            "Enter string: Hello Samad\n",
            "Length of String is:  11\n"
          ]
        }
      ]
    },
    {
      "cell_type": "code",
      "source": [
        "#Create a program that takes a sentence from the user and counts the number of vowels (a, e, i, o, u) in the string.\n",
        "\"\"\"We will use the count() method which is an inbuilt Python method in Python for counting the item passed in the parentheses. ,\n",
        "So like this, we can also count the vowels in the string by passing the vowels in the parentheses.\"\"\"\n",
        "\n",
        "string = input(\"Enter the sentence:\")\n",
        "vowels = \"aeiouAEIOU\"\n",
        "count = sum(string.count(vowel) for vowel in vowels)\n",
        "print(\"The number of vowels in the string\",count)"
      ],
      "metadata": {
        "colab": {
          "base_uri": "https://localhost:8080/"
        },
        "id": "uHi5MXXsRXW3",
        "outputId": "94a2039d-8c40-427e-b315-d54be7bfab55"
      },
      "execution_count": 13,
      "outputs": [
        {
          "output_type": "stream",
          "name": "stdout",
          "text": [
            "Enter the sentence:My Name is Khan\n",
            "The number of vowels in the string 4\n"
          ]
        }
      ]
    },
    {
      "cell_type": "code",
      "source": [
        "#Given a string, reverse the order of characters using string slicing and print he reversed string.\n",
        "\"\"\"If we provide a negative value to step, then the slicing runs backward, meaning from right to left.\"\"\"\n",
        "a = \"Abdul Samad\"\n",
        "b = a[::-1]\n",
        "print(\"Reversed String: \",b)"
      ],
      "metadata": {
        "colab": {
          "base_uri": "https://localhost:8080/"
        },
        "id": "uZQ-5xK3TAY7",
        "outputId": "7d61f348-afa4-4417-a0d8-61e54a4ea3b3"
      },
      "execution_count": 15,
      "outputs": [
        {
          "output_type": "stream",
          "name": "stdout",
          "text": [
            "Reversed String:  damaS ludbA\n"
          ]
        }
      ]
    },
    {
      "cell_type": "code",
      "source": [
        "#Write a program that takes a string as input and checks if it is a palindrome (reads the same forwards and backwards).\n",
        "\"\"\"If we provide a negative value to step, then the slicing runs backward, meaning from right to left. We will get reversed string,\n",
        "Using comparison operator we can check whetherit is a palindrome \"\"\"\n",
        "a = input(\"Enter the string: \")\n",
        "a = a.upper()       #python is case senstive lang, so we will convert input to UPPERCASE\n",
        "b = a[::-1]\n",
        "if b==a:\n",
        "  print(\"String is palindrome\")\n",
        "else:\n",
        "  print(\"String is not palindrome\")"
      ],
      "metadata": {
        "colab": {
          "base_uri": "https://localhost:8080/"
        },
        "id": "J9PKcLAhUIih",
        "outputId": "091a18ab-9bca-48f9-dab1-ae3fdb96229e"
      },
      "execution_count": 22,
      "outputs": [
        {
          "output_type": "stream",
          "name": "stdout",
          "text": [
            "Enter the string: Samas\n",
            "String is palindrome\n"
          ]
        }
      ]
    },
    {
      "cell_type": "code",
      "source": [
        "#Create a program that takes a string as input and removes all the spaces from it. Print the modified string without spaces.\n",
        "string = input(\"Input string value :\")\n",
        "a = string.replace(\" \", \"\") # using replace function we will replace space \" \" by \"\"\n",
        "print(\"String without space: \",a)"
      ],
      "metadata": {
        "colab": {
          "base_uri": "https://localhost:8080/"
        },
        "id": "obmSCmwrWMFd",
        "outputId": "a457a77f-95ca-4251-b234-825820566a7f"
      },
      "execution_count": 25,
      "outputs": [
        {
          "output_type": "stream",
          "name": "stdout",
          "text": [
            "Input string value :I am Hungry\n",
            "String without space:  IamHungry\n"
          ]
        }
      ]
    }
  ]
}